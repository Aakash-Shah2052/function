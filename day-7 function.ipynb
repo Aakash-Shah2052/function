{
 "cells": [
  {
   "cell_type": "code",
   "execution_count": 1,
   "metadata": {},
   "outputs": [],
   "source": [
    "# def <function>():   #defining function\n",
    "#     <operations>\n",
    "    \n",
    "# <function>()"
   ]
  },
  {
   "cell_type": "code",
   "execution_count": 2,
   "metadata": {},
   "outputs": [
    {
     "name": "stdout",
     "output_type": "stream",
     "text": [
      "Hello World\n"
     ]
    }
   ],
   "source": [
    "def hello():\n",
    "    print(\"Hello World\")\n",
    "    \n",
    "hello()"
   ]
  },
  {
   "cell_type": "code",
   "execution_count": 3,
   "metadata": {},
   "outputs": [
    {
     "name": "stdout",
     "output_type": "stream",
     "text": [
      "Enter l = 10\n",
      "Enter b = 2\n",
      "Enter h = 3\n",
      "The volume is =  60\n"
     ]
    }
   ],
   "source": [
    "def cal():\n",
    "    l = int(input(\"Enter l = \"))\n",
    "    b = int(input(\"Enter b = \"))\n",
    "    h = int(input(\"Enter h = \"))\n",
    "    v = l*b*h\n",
    "    print(\"The volume is = \",v)\n",
    "    \n",
    "cal()"
   ]
  },
  {
   "cell_type": "code",
   "execution_count": 4,
   "metadata": {},
   "outputs": [
    {
     "name": "stdout",
     "output_type": "stream",
     "text": [
      "Enter p = 243324\n",
      "Enter t = 4\n",
      "Enter r = 3\n",
      "The value of i =  29198.88\n",
      "Enter p = 234234\n",
      "Enter t = 3\n",
      "Enter r = 4\n",
      "The value of i =  28108.08\n"
     ]
    }
   ],
   "source": [
    "def cals():\n",
    "    p = float(input(\"Enter p = \"))  #local variable\n",
    "    t = float(input(\"Enter t = \"))\n",
    "    r = float(input(\"Enter r = \"))\n",
    "    i = p*t*r/100\n",
    "    print(\"The value of i = \",i)\n",
    "\n",
    "n = int(input(\"Enter how many times to calculate = \"))\n",
    "for i in range(n):\n",
    "    cals()\n"
   ]
  },
  {
   "cell_type": "code",
   "execution_count": 5,
   "metadata": {},
   "outputs": [],
   "source": [
    "# function with no argument and no return type\n",
    "# function with argument and no return type\n",
    "# function with no argument and return type\n",
    "# function with argument and return type"
   ]
  },
  {
   "cell_type": "code",
   "execution_count": 1,
   "metadata": {},
   "outputs": [
    {
     "name": "stdout",
     "output_type": "stream",
     "text": [
      "Enter l = 21\n",
      "Enter b = 33\n",
      "Enter h = 12\n",
      "The volume is =  8316\n"
     ]
    },
    {
     "ename": "NameError",
     "evalue": "name 'l' is not defined",
     "output_type": "error",
     "traceback": [
      "\u001b[1;31m---------------------------------------------------------------------------\u001b[0m",
      "\u001b[1;31mNameError\u001b[0m                                 Traceback (most recent call last)",
      "\u001b[1;32m<ipython-input-1-3e6172356b6e>\u001b[0m in \u001b[0;36m<module>\u001b[1;34m\u001b[0m\n\u001b[0;32m      8\u001b[0m \u001b[1;33m\u001b[0m\u001b[0m\n\u001b[0;32m      9\u001b[0m \u001b[0mcal\u001b[0m\u001b[1;33m(\u001b[0m\u001b[1;33m)\u001b[0m\u001b[1;33m\u001b[0m\u001b[1;33m\u001b[0m\u001b[0m\n\u001b[1;32m---> 10\u001b[1;33m \u001b[0mprint\u001b[0m\u001b[1;33m(\u001b[0m\u001b[0ml\u001b[0m\u001b[1;33m)\u001b[0m\u001b[1;33m\u001b[0m\u001b[1;33m\u001b[0m\u001b[0m\n\u001b[0m",
      "\u001b[1;31mNameError\u001b[0m: name 'l' is not defined"
     ]
    }
   ],
   "source": [
    "# function with no argument and no return type\n",
    "def cal():\n",
    "    l = int(input(\"Enter l = \"))  #local variable\n",
    "    b = int(input(\"Enter b = \"))\n",
    "    h = int(input(\"Enter h = \"))\n",
    "    v = l*b*h\n",
    "    print(\"The volume is = \",v)\n",
    "    \n",
    "cal()\n",
    "print(l)"
   ]
  },
  {
   "cell_type": "code",
   "execution_count": 2,
   "metadata": {},
   "outputs": [
    {
     "name": "stdout",
     "output_type": "stream",
     "text": [
      "Enter l = 12\n",
      "Enter b = 324\n",
      "Enter h = 12\n",
      "The volume is =  46656\n",
      "12 324 12\n"
     ]
    }
   ],
   "source": [
    "# function with no argument and no return type\n",
    "l = int(input(\"Enter l = \"))   #global variable\n",
    "b = int(input(\"Enter b = \"))\n",
    "h = int(input(\"Enter h = \"))\n",
    "def cal():\n",
    "    \n",
    "    v = l*b*h\n",
    "    print(\"The volume is = \",v)\n",
    "    \n",
    "cal()\n",
    "print(l,b,h)"
   ]
  },
  {
   "cell_type": "code",
   "execution_count": 3,
   "metadata": {},
   "outputs": [
    {
     "name": "stdout",
     "output_type": "stream",
     "text": [
      "Hello World\n"
     ]
    }
   ],
   "source": [
    "# function with argument but non return type\n",
    "def hello(x):\n",
    "    print(x)\n",
    "    \n",
    "hello(\"Hello World\")"
   ]
  },
  {
   "cell_type": "code",
   "execution_count": 4,
   "metadata": {},
   "outputs": [
    {
     "name": "stdout",
     "output_type": "stream",
     "text": [
      "Enter l = 10\n",
      "Enter b = 2\n",
      "Enter h = 4\n",
      "The volume is =  80\n"
     ]
    }
   ],
   "source": [
    "# function with argument and no return type\n",
    "\n",
    "def cal(l,b,h):\n",
    "    v = l*b*h\n",
    "    print(\"The volume is = \",v)\n",
    "    \n",
    "    \n",
    "l = int(input(\"Enter l = \"))   #global variable\n",
    "b = int(input(\"Enter b = \"))\n",
    "h = int(input(\"Enter h = \"))    \n",
    "cal(l,b,h)"
   ]
  },
  {
   "cell_type": "code",
   "execution_count": 5,
   "metadata": {},
   "outputs": [
    {
     "name": "stdout",
     "output_type": "stream",
     "text": [
      "Enter l = 213\n",
      "Enter b = 3\n",
      "Enter h = 2\n",
      "The volume is =  1278\n"
     ]
    }
   ],
   "source": [
    "# function with argument and no return type\n",
    "\n",
    "def cal(x,y,z):\n",
    "    global v\n",
    "    v = x*y*z  # v is global\n",
    "    \n",
    "l = int(input(\"Enter l = \"))   #global variable\n",
    "b = int(input(\"Enter b = \"))\n",
    "h = int(input(\"Enter h = \"))    \n",
    "cal(l,b,h)\n",
    "print(\"The volume is = \",v) "
   ]
  },
  {
   "cell_type": "code",
   "execution_count": 8,
   "metadata": {},
   "outputs": [
    {
     "name": "stdout",
     "output_type": "stream",
     "text": [
      "20\n"
     ]
    }
   ],
   "source": [
    "def area(x,y=5):\n",
    "    a = x*y\n",
    "    print(a)\n",
    "    \n",
    "l = 10\n",
    "b = 2\n",
    "area(l,b)"
   ]
  },
  {
   "cell_type": "code",
   "execution_count": 10,
   "metadata": {},
   "outputs": [
    {
     "name": "stdout",
     "output_type": "stream",
     "text": [
      "50\n"
     ]
    }
   ],
   "source": [
    "def area(x,y=5):\n",
    "    a = x*y\n",
    "    print(a)\n",
    "    \n",
    "l = 10\n",
    "b = 2\n",
    "area(l)"
   ]
  },
  {
   "cell_type": "code",
   "execution_count": 13,
   "metadata": {},
   "outputs": [
    {
     "name": "stdout",
     "output_type": "stream",
     "text": [
      "20\n"
     ]
    }
   ],
   "source": [
    "def area(x=4,y=5):\n",
    "    a = x*y\n",
    "    print(a)\n",
    "    \n",
    "l = 10\n",
    "b = 2\n",
    "area(10,2)"
   ]
  },
  {
   "cell_type": "code",
   "execution_count": 15,
   "metadata": {},
   "outputs": [
    {
     "name": "stdout",
     "output_type": "stream",
     "text": [
      "Enter nameRam\n",
      "Enter Age = 34\n",
      "Enter address = Kathmandu\n",
      "hello my name is Ram I am from KathmanduI am 34\n"
     ]
    }
   ],
   "source": [
    "# function with argument and no return type\n",
    "def info(c):\n",
    "    x,y,z = c\n",
    "    a = \"hello my name is \" +x+\" I am from \"+z+\"I am \"+str(y)\n",
    "    print(a)\n",
    "    \n",
    "name = input(\"Enter name\")\n",
    "age = int(input(\"Enter Age = \"))\n",
    "add = input(\"Enter address = \")\n",
    "b = [name,age,add]\n",
    "info(b)"
   ]
  },
  {
   "cell_type": "code",
   "execution_count": 19,
   "metadata": {},
   "outputs": [
    {
     "name": "stdout",
     "output_type": "stream",
     "text": [
      "200\n"
     ]
    }
   ],
   "source": [
    "# function with no argument and return type\n",
    "def cal():\n",
    "    l = 10\n",
    "    b = 20\n",
    "    a = l*b\n",
    "    return a\n",
    "\n",
    "print(cal())"
   ]
  },
  {
   "cell_type": "code",
   "execution_count": 21,
   "metadata": {},
   "outputs": [
    {
     "name": "stdout",
     "output_type": "stream",
     "text": [
      "4000\n"
     ]
    }
   ],
   "source": [
    "def cal():\n",
    "    l = 10\n",
    "    b = 20\n",
    "    a = l*b\n",
    "    return a\n",
    "\n",
    "area = cal()\n",
    "h =20\n",
    "v = area*h\n",
    "print(v)"
   ]
  },
  {
   "cell_type": "code",
   "execution_count": 24,
   "metadata": {},
   "outputs": [
    {
     "name": "stdout",
     "output_type": "stream",
     "text": [
      "4000\n"
     ]
    }
   ],
   "source": [
    "def cal():\n",
    "    l = 10\n",
    "    b = 20\n",
    "    a = l*b\n",
    "    return a\n",
    "\n",
    "\n",
    "h =20\n",
    "v = cal()*h\n",
    "print(v)"
   ]
  },
  {
   "cell_type": "code",
   "execution_count": 25,
   "metadata": {},
   "outputs": [
    {
     "name": "stdout",
     "output_type": "stream",
     "text": [
      "The area is =  200\n",
      "The volume is =  600\n"
     ]
    }
   ],
   "source": [
    "def area():\n",
    "    l = 20\n",
    "    b = 10\n",
    "    a = l*b\n",
    "    return a\n",
    "\n",
    "def volume():\n",
    "    h = 3\n",
    "    v = area()*h\n",
    "    return v\n",
    "    \n",
    "print(\"The area is = \",area())\n",
    "print(\"The volume is = \",volume())"
   ]
  },
  {
   "cell_type": "code",
   "execution_count": null,
   "metadata": {},
   "outputs": [],
   "source": []
  }
 ],
 "metadata": {
  "kernelspec": {
   "display_name": "Python 3",
   "language": "python",
   "name": "python3"
  }
 },
 "nbformat": 4,
 "nbformat_minor": 2
}
